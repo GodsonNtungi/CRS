{
 "cells": [
  {
   "cell_type": "code",
   "execution_count": 1,
   "id": "12681dfd-f445-4f4c-80fb-d7cfaaac8f74",
   "metadata": {},
   "outputs": [],
   "source": [
    "import pandas as pd"
   ]
  },
  {
   "cell_type": "code",
   "execution_count": 3,
   "id": "4eff85fb-e30a-4377-a9fb-432d101cbfd7",
   "metadata": {},
   "outputs": [],
   "source": [
    "data = pd.read_csv(\"Data/Crop_recommendation.csv\")"
   ]
  },
  {
   "cell_type": "code",
   "execution_count": 7,
   "id": "33afefc2-9802-4efd-9231-c1d7ef709f5a",
   "metadata": {},
   "outputs": [],
   "source": [
    "bysoil_data = data.groupby(\"label\").mean()"
   ]
  },
  {
   "cell_type": "code",
   "execution_count": 9,
   "id": "5b4a4f01-40fe-4514-9f15-9e013ee96963",
   "metadata": {},
   "outputs": [],
   "source": [
    "bysoil_data.to_csv(\"by_soil.csv\")"
   ]
  },
  {
   "cell_type": "code",
   "execution_count": null,
   "id": "17723054-04af-4c42-8bf8-4d9e12d6434c",
   "metadata": {},
   "outputs": [],
   "source": []
  }
 ],
 "metadata": {
  "kernelspec": {
   "display_name": "Python 3 (ipykernel)",
   "language": "python",
   "name": "python3"
  },
  "language_info": {
   "codemirror_mode": {
    "name": "ipython",
    "version": 3
   },
   "file_extension": ".py",
   "mimetype": "text/x-python",
   "name": "python",
   "nbconvert_exporter": "python",
   "pygments_lexer": "ipython3",
   "version": "3.9.13"
  }
 },
 "nbformat": 4,
 "nbformat_minor": 5
}
